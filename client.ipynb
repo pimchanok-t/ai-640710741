{
  "nbformat": 4,
  "nbformat_minor": 0,
  "metadata": {
    "colab": {
      "provenance": [],
      "gpuType": "T4"
    },
    "kernelspec": {
      "name": "python3",
      "display_name": "Python 3"
    },
    "language_info": {
      "name": "python"
    },
    "accelerator": "GPU"
  },
  "cells": [
    {
      "cell_type": "markdown",
      "source": [
        "#640710741 พิมพ์ชนก ธีรพงษกร\n"
      ],
      "metadata": {
        "id": "Ok2IWZEYnmbm"
      }
    },
    {
      "cell_type": "code",
      "execution_count": null,
      "metadata": {
        "id": "th14EyuXJJxc"
      },
      "outputs": [],
      "source": [
        "import requests"
      ]
    },
    {
      "cell_type": "code",
      "source": [
        "# URL ที่ได้จาก ngrok\n",
        "url = \"https://22ff9c0eba15.ngrok-free.app/predict\""
      ],
      "metadata": {
        "id": "QXnlVSW2luAG"
      },
      "execution_count": null,
      "outputs": []
    },
    {
      "cell_type": "code",
      "source": [
        "# ข้อมูลทดสอบ\n",
        "data = {\n",
        "    \"age\": 63,\n",
        "    \"sex\": 1,\n",
        "    \"cp\": 3,\n",
        "    \"trestbps\": 145,\n",
        "    \"chol\": 233,\n",
        "    \"fbs\": 1,\n",
        "    \"restecg\": 0,\n",
        "    \"thalach\": 150,\n",
        "    \"exang\": 0,\n",
        "    \"oldpeak\": 2.3,\n",
        "    \"slope\": 0,\n",
        "    \"ca\": 0,\n",
        "    \"thal\": 1\n",
        "}"
      ],
      "metadata": {
        "id": "Os81_Gd2l0ZA"
      },
      "execution_count": null,
      "outputs": []
    },
    {
      "cell_type": "code",
      "source": [
        "# ส่ง POST request\n",
        "response = requests.post(url, json=data)\n",
        "\n",
        "# แสดงผลลัพธ์\n",
        "print(response.json())"
      ],
      "metadata": {
        "colab": {
          "base_uri": "https://localhost:8080/"
        },
        "id": "uaobYrgDl2b2",
        "outputId": "dd27468b-a776-499b-e006-d6647c23de78"
      },
      "execution_count": null,
      "outputs": [
        {
          "output_type": "stream",
          "name": "stdout",
          "text": [
            "{'prediction': 0}\n"
          ]
        }
      ]
    },
    {
      "cell_type": "code",
      "source": [],
      "metadata": {
        "id": "uJEjhCLCl4gg"
      },
      "execution_count": null,
      "outputs": []
    }
  ]
}