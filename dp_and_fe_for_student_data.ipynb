{
  "cells": [
    {
      "cell_type": "markdown",
      "metadata": {
        "id": "fs7k1h-7Wbqk"
      },
      "source": [
        "#ทดสอบ 640710741 พิมพ์ชนก ธีรพงษกร"
      ]
    },
    {
      "cell_type": "code",
      "execution_count": 144,
      "metadata": {
        "id": "WVe-_NUTWerK"
      },
      "outputs": [],
      "source": [
        "import pandas as pd\n",
        "import numpy as np"
      ]
    },
    {
      "cell_type": "markdown",
      "metadata": {
        "id": "ENalae3Ce1GS"
      },
      "source": [
        "#ทำการอ่านไฟล์\n"
      ]
    },
    {
      "cell_type": "code",
      "execution_count": 145,
      "metadata": {
        "id": "NQBWHre3Wu8B"
      },
      "outputs": [],
      "source": [
        "df=pd.read_csv('student.csv')"
      ]
    },
    {
      "cell_type": "code",
      "execution_count": 146,
      "metadata": {
        "colab": {
          "base_uri": "https://localhost:8080/"
        },
        "id": "6MyertqceBiM",
        "outputId": "44fd5a5f-ab2f-4c1d-b712-255355665703"
      },
      "outputs": [
        {
          "data": {
            "text/plain": [
              "(20, 10)"
            ]
          },
          "execution_count": 146,
          "metadata": {},
          "output_type": "execute_result"
        }
      ],
      "source": [
        "df.shape"
      ]
    },
    {
      "cell_type": "markdown",
      "metadata": {
        "id": "Pc4g9hcAe5sp"
      },
      "source": [
        "#แสดงข้อมูลทั้งหมด"
      ]
    },
    {
      "cell_type": "code",
      "execution_count": 147,
      "metadata": {
        "colab": {
          "base_uri": "https://localhost:8080/",
          "height": 676
        },
        "id": "GhQCJ_fjdF5q",
        "outputId": "1f08550f-0177-4fba-aec7-d61f4da31011"
      },
      "outputs": [
        {
          "data": {
            "application/vnd.google.colaboratory.intrinsic+json": {
              "summary": "{\n  \"name\": \"df\",\n  \"rows\": 20,\n  \"fields\": [\n    {\n      \"column\": \"\\u0e23\\u0e2b\\u0e31\\u0e2a\\u0e19\\u0e31\\u0e01\\u0e28\\u0e36\\u0e01\\u0e29\\u0e32\",\n      \"properties\": {\n        \"dtype\": \"number\",\n        \"std\": 5,\n        \"min\": 64001,\n        \"max\": 64020,\n        \"num_unique_values\": 20,\n        \"samples\": [\n          64001,\n          64018,\n          64016\n        ],\n        \"semantic_type\": \"\",\n        \"description\": \"\"\n      }\n    },\n    {\n      \"column\": \"\\u0e0a\\u0e37\\u0e48\\u0e2d\",\n      \"properties\": {\n        \"dtype\": \"string\",\n        \"num_unique_values\": 19,\n        \"samples\": [\n          \"\\u0e2a\\u0e21\\u0e0a\\u0e32\\u0e22\",\n          \"\\u0e01\\u0e34\\u0e15\\u0e15\\u0e34\",\n          \"\\u0e1a\\u0e38\\u0e0d\\u0e21\\u0e35\"\n        ],\n        \"semantic_type\": \"\",\n        \"description\": \"\"\n      }\n    },\n    {\n      \"column\": \"\\u0e2d\\u0e32\\u0e22\\u0e38\",\n      \"properties\": {\n        \"dtype\": \"number\",\n        \"std\": 31.337113872888057,\n        \"min\": 19.0,\n        \"max\": 150.0,\n        \"num_unique_values\": 6,\n        \"samples\": [\n          20.0,\n          21.0,\n          23.0\n        ],\n        \"semantic_type\": \"\",\n        \"description\": \"\"\n      }\n    },\n    {\n      \"column\": \"\\u0e40\\u0e1e\\u0e28\",\n      \"properties\": {\n        \"dtype\": \"category\",\n        \"num_unique_values\": 8,\n        \"samples\": [\n          \"\\u0e2b\\u0e0d\\u0e34\\u0e07\",\n          \"F\",\n          \"\\u0e0a\\u0e32\\u0e22\"\n        ],\n        \"semantic_type\": \"\",\n        \"description\": \"\"\n      }\n    },\n    {\n      \"column\": \"\\u0e04\\u0e13\\u0e30\",\n      \"properties\": {\n        \"dtype\": \"string\",\n        \"num_unique_values\": 14,\n        \"samples\": [\n          \"\\u0e28\\u0e34\\u0e25\\u0e1b\\u0e4c\",\n          \"Liberal Arts\",\n          \"\\u0e27\\u0e34\\u0e17\\u0e22\\u0e32\\u0e28\\u0e32\\u0e2a\\u0e15\\u0e23\\u0e4c\"\n        ],\n        \"semantic_type\": \"\",\n        \"description\": \"\"\n      }\n    },\n    {\n      \"column\": \"GPA\",\n      \"properties\": {\n        \"dtype\": \"number\",\n        \"std\": 1.1233256239916989,\n        \"min\": -1.0,\n        \"max\": 4.5,\n        \"num_unique_values\": 13,\n        \"samples\": [\n          3.23,\n          3.56,\n          3.21\n        ],\n        \"semantic_type\": \"\",\n        \"description\": \"\"\n      }\n    },\n    {\n      \"column\": \"\\u0e2a\\u0e48\\u0e27\\u0e19\\u0e2a\\u0e39\\u0e07_cm\",\n      \"properties\": {\n        \"dtype\": \"number\",\n        \"std\": 5.7062600281420695,\n        \"min\": 158.0,\n        \"max\": 180.0,\n        \"num_unique_values\": 18,\n        \"samples\": [\n          170.0,\n          165.0,\n          163.0\n        ],\n        \"semantic_type\": \"\",\n        \"description\": \"\"\n      }\n    },\n    {\n      \"column\": \"\\u0e19\\u0e49\\u0e33\\u0e2b\\u0e19\\u0e31\\u0e01_kg\",\n      \"properties\": {\n        \"dtype\": \"number\",\n        \"std\": 10.27927033854108,\n        \"min\": 48.0,\n        \"max\": 82.0,\n        \"num_unique_values\": 18,\n        \"samples\": [\n          65.0,\n          58.0,\n          60.0\n        ],\n        \"semantic_type\": \"\",\n        \"description\": \"\"\n      }\n    },\n    {\n      \"column\": \"\\u0e0a\\u0e31\\u0e48\\u0e27\\u0e42\\u0e21\\u0e07\\u0e40\\u0e23\\u0e35\\u0e22\\u0e19_\\u0e15\\u0e48\\u0e2d\\u0e2a\\u0e31\\u0e1b\\u0e14\\u0e32\\u0e2b\\u0e4c\",\n      \"properties\": {\n        \"dtype\": \"number\",\n        \"std\": 6.598920490048879,\n        \"min\": 10.0,\n        \"max\": 35.0,\n        \"num_unique_values\": 18,\n        \"samples\": [\n          15.0,\n          20.0,\n          22.0\n        ],\n        \"semantic_type\": \"\",\n        \"description\": \"\"\n      }\n    },\n    {\n      \"column\": \"\\u0e27\\u0e31\\u0e19\\u0e17\\u0e35\\u0e48\\u0e25\\u0e07\\u0e17\\u0e30\\u0e40\\u0e1a\\u0e35\\u0e22\\u0e19\",\n      \"properties\": {\n        \"dtype\": \"object\",\n        \"num_unique_values\": 17,\n        \"samples\": [\n          \"2024-01-23\",\n          \"2024-02-05\",\n          \"2023-12-23\"\n        ],\n        \"semantic_type\": \"\",\n        \"description\": \"\"\n      }\n    }\n  ]\n}",
              "type": "dataframe",
              "variable_name": "df"
            },
            "text/html": [
              "\n",
              "  <div id=\"df-c4c5c6d1-78ba-477d-b98f-a05512c0286e\" class=\"colab-df-container\">\n",
              "    <div>\n",
              "<style scoped>\n",
              "    .dataframe tbody tr th:only-of-type {\n",
              "        vertical-align: middle;\n",
              "    }\n",
              "\n",
              "    .dataframe tbody tr th {\n",
              "        vertical-align: top;\n",
              "    }\n",
              "\n",
              "    .dataframe thead th {\n",
              "        text-align: right;\n",
              "    }\n",
              "</style>\n",
              "<table border=\"1\" class=\"dataframe\">\n",
              "  <thead>\n",
              "    <tr style=\"text-align: right;\">\n",
              "      <th></th>\n",
              "      <th>รหัสนักศึกษา</th>\n",
              "      <th>ชื่อ</th>\n",
              "      <th>อายุ</th>\n",
              "      <th>เพศ</th>\n",
              "      <th>คณะ</th>\n",
              "      <th>GPA</th>\n",
              "      <th>ส่วนสูง_cm</th>\n",
              "      <th>น้ำหนัก_kg</th>\n",
              "      <th>ชั่วโมงเรียน_ต่อสัปดาห์</th>\n",
              "      <th>วันที่ลงทะเบียน</th>\n",
              "    </tr>\n",
              "  </thead>\n",
              "  <tbody>\n",
              "    <tr>\n",
              "      <th>0</th>\n",
              "      <td>64001</td>\n",
              "      <td>สมชาย</td>\n",
              "      <td>20.0</td>\n",
              "      <td>ชาย</td>\n",
              "      <td>วิทยาศาสตร์</td>\n",
              "      <td>3.21</td>\n",
              "      <td>170.0</td>\n",
              "      <td>65.0</td>\n",
              "      <td>15.0</td>\n",
              "      <td>2024-01-23</td>\n",
              "    </tr>\n",
              "    <tr>\n",
              "      <th>1</th>\n",
              "      <td>64002</td>\n",
              "      <td>สมหญิง</td>\n",
              "      <td>21.0</td>\n",
              "      <td>หญิง</td>\n",
              "      <td>วิทย์</td>\n",
              "      <td>3.45</td>\n",
              "      <td>165.0</td>\n",
              "      <td>58.0</td>\n",
              "      <td>20.0</td>\n",
              "      <td>2024-02-05</td>\n",
              "    </tr>\n",
              "    <tr>\n",
              "      <th>2</th>\n",
              "      <td>64003</td>\n",
              "      <td>NaN</td>\n",
              "      <td>NaN</td>\n",
              "      <td>Male</td>\n",
              "      <td>Science</td>\n",
              "      <td>3.67</td>\n",
              "      <td>175.0</td>\n",
              "      <td>NaN</td>\n",
              "      <td>25.0</td>\n",
              "      <td>2024-01-13</td>\n",
              "    </tr>\n",
              "    <tr>\n",
              "      <th>3</th>\n",
              "      <td>64004</td>\n",
              "      <td>สมศักดิ์</td>\n",
              "      <td>22.0</td>\n",
              "      <td>ช</td>\n",
              "      <td>คณะวิทยาศาสตร์</td>\n",
              "      <td>-1.00</td>\n",
              "      <td>168.0</td>\n",
              "      <td>70.0</td>\n",
              "      <td>10.0</td>\n",
              "      <td>2023-12-30</td>\n",
              "    </tr>\n",
              "    <tr>\n",
              "      <th>4</th>\n",
              "      <td>64005</td>\n",
              "      <td>สมใจ</td>\n",
              "      <td>19.0</td>\n",
              "      <td>ญ</td>\n",
              "      <td>วิศวะ</td>\n",
              "      <td>3.89</td>\n",
              "      <td>160.0</td>\n",
              "      <td>52.0</td>\n",
              "      <td>30.0</td>\n",
              "      <td>2024-01-27</td>\n",
              "    </tr>\n",
              "    <tr>\n",
              "      <th>5</th>\n",
              "      <td>64006</td>\n",
              "      <td>กานต์</td>\n",
              "      <td>150.0</td>\n",
              "      <td>ชาย</td>\n",
              "      <td>Engineering</td>\n",
              "      <td>3.12</td>\n",
              "      <td>172.0</td>\n",
              "      <td>75.0</td>\n",
              "      <td>12.0</td>\n",
              "      <td>2023-12-23</td>\n",
              "    </tr>\n",
              "    <tr>\n",
              "      <th>6</th>\n",
              "      <td>64007</td>\n",
              "      <td>กิตติ</td>\n",
              "      <td>21.0</td>\n",
              "      <td>หญิง</td>\n",
              "      <td>วิศวกรรม</td>\n",
              "      <td>4.50</td>\n",
              "      <td>158.0</td>\n",
              "      <td>48.0</td>\n",
              "      <td>35.0</td>\n",
              "      <td>2024-01-05</td>\n",
              "    </tr>\n",
              "    <tr>\n",
              "      <th>7</th>\n",
              "      <td>64008</td>\n",
              "      <td>จิรา</td>\n",
              "      <td>20.0</td>\n",
              "      <td>F</td>\n",
              "      <td>ศิลปศาสตร์</td>\n",
              "      <td>2.98</td>\n",
              "      <td>180.0</td>\n",
              "      <td>82.0</td>\n",
              "      <td>18.0</td>\n",
              "      <td>2024-01-23</td>\n",
              "    </tr>\n",
              "    <tr>\n",
              "      <th>8</th>\n",
              "      <td>64009</td>\n",
              "      <td>ชนาธิป</td>\n",
              "      <td>23.0</td>\n",
              "      <td>M</td>\n",
              "      <td>Arts</td>\n",
              "      <td>3.34</td>\n",
              "      <td>163.0</td>\n",
              "      <td>55.0</td>\n",
              "      <td>22.0</td>\n",
              "      <td>2024-02-11</td>\n",
              "    </tr>\n",
              "    <tr>\n",
              "      <th>9</th>\n",
              "      <td>64010</td>\n",
              "      <td>ดารา</td>\n",
              "      <td>21.0</td>\n",
              "      <td>หญิง</td>\n",
              "      <td>ศิลป์</td>\n",
              "      <td>3.56</td>\n",
              "      <td>167.0</td>\n",
              "      <td>60.0</td>\n",
              "      <td>28.0</td>\n",
              "      <td>2024-01-03</td>\n",
              "    </tr>\n",
              "    <tr>\n",
              "      <th>10</th>\n",
              "      <td>64011</td>\n",
              "      <td>ธีระ</td>\n",
              "      <td>NaN</td>\n",
              "      <td>NaN</td>\n",
              "      <td>NaN</td>\n",
              "      <td>3.78</td>\n",
              "      <td>NaN</td>\n",
              "      <td>68.0</td>\n",
              "      <td>NaN</td>\n",
              "      <td>2024-01-07</td>\n",
              "    </tr>\n",
              "    <tr>\n",
              "      <th>11</th>\n",
              "      <td>64012</td>\n",
              "      <td>นภา</td>\n",
              "      <td>22.0</td>\n",
              "      <td>ชาย</td>\n",
              "      <td>วิทย์</td>\n",
              "      <td>NaN</td>\n",
              "      <td>171.0</td>\n",
              "      <td>NaN</td>\n",
              "      <td>16.0</td>\n",
              "      <td>2023-12-26</td>\n",
              "    </tr>\n",
              "    <tr>\n",
              "      <th>12</th>\n",
              "      <td>64013</td>\n",
              "      <td>บุญมี</td>\n",
              "      <td>20.0</td>\n",
              "      <td>หญิง</td>\n",
              "      <td>วิศวฯ</td>\n",
              "      <td>3.23</td>\n",
              "      <td>169.0</td>\n",
              "      <td>72.0</td>\n",
              "      <td>24.0</td>\n",
              "      <td>2023-12-26</td>\n",
              "    </tr>\n",
              "    <tr>\n",
              "      <th>13</th>\n",
              "      <td>64014</td>\n",
              "      <td>ปรีชา</td>\n",
              "      <td>21.0</td>\n",
              "      <td>ชาย</td>\n",
              "      <td>Liberal Arts</td>\n",
              "      <td>3.45</td>\n",
              "      <td>164.0</td>\n",
              "      <td>54.0</td>\n",
              "      <td>19.0</td>\n",
              "      <td>2024-01-08</td>\n",
              "    </tr>\n",
              "    <tr>\n",
              "      <th>14</th>\n",
              "      <td>64015</td>\n",
              "      <td>พิมพ์</td>\n",
              "      <td>22.0</td>\n",
              "      <td>Female</td>\n",
              "      <td>Sci</td>\n",
              "      <td>3.67</td>\n",
              "      <td>162.0</td>\n",
              "      <td>56.0</td>\n",
              "      <td>26.0</td>\n",
              "      <td>2024-02-06</td>\n",
              "    </tr>\n",
              "    <tr>\n",
              "      <th>15</th>\n",
              "      <td>64016</td>\n",
              "      <td>ภูมิ</td>\n",
              "      <td>19.0</td>\n",
              "      <td>ช</td>\n",
              "      <td>วิทยาศาสตร์</td>\n",
              "      <td>3.89</td>\n",
              "      <td>173.0</td>\n",
              "      <td>78.0</td>\n",
              "      <td>14.0</td>\n",
              "      <td>2024-01-20</td>\n",
              "    </tr>\n",
              "    <tr>\n",
              "      <th>16</th>\n",
              "      <td>64017</td>\n",
              "      <td>มานี</td>\n",
              "      <td>20.0</td>\n",
              "      <td>ญ</td>\n",
              "      <td>วิศวกรรมศาสตร์</td>\n",
              "      <td>3.01</td>\n",
              "      <td>166.0</td>\n",
              "      <td>62.0</td>\n",
              "      <td>21.0</td>\n",
              "      <td>2024-01-24</td>\n",
              "    </tr>\n",
              "    <tr>\n",
              "      <th>17</th>\n",
              "      <td>64018</td>\n",
              "      <td>ยุพา</td>\n",
              "      <td>21.0</td>\n",
              "      <td>หญิง</td>\n",
              "      <td>NaN</td>\n",
              "      <td>3.23</td>\n",
              "      <td>161.0</td>\n",
              "      <td>50.0</td>\n",
              "      <td>27.0</td>\n",
              "      <td>2024-01-08</td>\n",
              "    </tr>\n",
              "    <tr>\n",
              "      <th>18</th>\n",
              "      <td>64019</td>\n",
              "      <td>รัตนา</td>\n",
              "      <td>NaN</td>\n",
              "      <td>ชาย</td>\n",
              "      <td>ศิลปศาสตร์</td>\n",
              "      <td>NaN</td>\n",
              "      <td>174.0</td>\n",
              "      <td>76.0</td>\n",
              "      <td>NaN</td>\n",
              "      <td>2023-12-18</td>\n",
              "    </tr>\n",
              "    <tr>\n",
              "      <th>19</th>\n",
              "      <td>64020</td>\n",
              "      <td>ลัดดา</td>\n",
              "      <td>22.0</td>\n",
              "      <td>NaN</td>\n",
              "      <td>Science</td>\n",
              "      <td>3.45</td>\n",
              "      <td>168.0</td>\n",
              "      <td>64.0</td>\n",
              "      <td>23.0</td>\n",
              "      <td>2024-01-06</td>\n",
              "    </tr>\n",
              "  </tbody>\n",
              "</table>\n",
              "</div>\n",
              "    <div class=\"colab-df-buttons\">\n",
              "\n",
              "  <div class=\"colab-df-container\">\n",
              "    <button class=\"colab-df-convert\" onclick=\"convertToInteractive('df-c4c5c6d1-78ba-477d-b98f-a05512c0286e')\"\n",
              "            title=\"Convert this dataframe to an interactive table.\"\n",
              "            style=\"display:none;\">\n",
              "\n",
              "  <svg xmlns=\"http://www.w3.org/2000/svg\" height=\"24px\" viewBox=\"0 -960 960 960\">\n",
              "    <path d=\"M120-120v-720h720v720H120Zm60-500h600v-160H180v160Zm220 220h160v-160H400v160Zm0 220h160v-160H400v160ZM180-400h160v-160H180v160Zm440 0h160v-160H620v160ZM180-180h160v-160H180v160Zm440 0h160v-160H620v160Z\"/>\n",
              "  </svg>\n",
              "    </button>\n",
              "\n",
              "  <style>\n",
              "    .colab-df-container {\n",
              "      display:flex;\n",
              "      gap: 12px;\n",
              "    }\n",
              "\n",
              "    .colab-df-convert {\n",
              "      background-color: #E8F0FE;\n",
              "      border: none;\n",
              "      border-radius: 50%;\n",
              "      cursor: pointer;\n",
              "      display: none;\n",
              "      fill: #1967D2;\n",
              "      height: 32px;\n",
              "      padding: 0 0 0 0;\n",
              "      width: 32px;\n",
              "    }\n",
              "\n",
              "    .colab-df-convert:hover {\n",
              "      background-color: #E2EBFA;\n",
              "      box-shadow: 0px 1px 2px rgba(60, 64, 67, 0.3), 0px 1px 3px 1px rgba(60, 64, 67, 0.15);\n",
              "      fill: #174EA6;\n",
              "    }\n",
              "\n",
              "    .colab-df-buttons div {\n",
              "      margin-bottom: 4px;\n",
              "    }\n",
              "\n",
              "    [theme=dark] .colab-df-convert {\n",
              "      background-color: #3B4455;\n",
              "      fill: #D2E3FC;\n",
              "    }\n",
              "\n",
              "    [theme=dark] .colab-df-convert:hover {\n",
              "      background-color: #434B5C;\n",
              "      box-shadow: 0px 1px 3px 1px rgba(0, 0, 0, 0.15);\n",
              "      filter: drop-shadow(0px 1px 2px rgba(0, 0, 0, 0.3));\n",
              "      fill: #FFFFFF;\n",
              "    }\n",
              "  </style>\n",
              "\n",
              "    <script>\n",
              "      const buttonEl =\n",
              "        document.querySelector('#df-c4c5c6d1-78ba-477d-b98f-a05512c0286e button.colab-df-convert');\n",
              "      buttonEl.style.display =\n",
              "        google.colab.kernel.accessAllowed ? 'block' : 'none';\n",
              "\n",
              "      async function convertToInteractive(key) {\n",
              "        const element = document.querySelector('#df-c4c5c6d1-78ba-477d-b98f-a05512c0286e');\n",
              "        const dataTable =\n",
              "          await google.colab.kernel.invokeFunction('convertToInteractive',\n",
              "                                                    [key], {});\n",
              "        if (!dataTable) return;\n",
              "\n",
              "        const docLinkHtml = 'Like what you see? Visit the ' +\n",
              "          '<a target=\"_blank\" href=https://colab.research.google.com/notebooks/data_table.ipynb>data table notebook</a>'\n",
              "          + ' to learn more about interactive tables.';\n",
              "        element.innerHTML = '';\n",
              "        dataTable['output_type'] = 'display_data';\n",
              "        await google.colab.output.renderOutput(dataTable, element);\n",
              "        const docLink = document.createElement('div');\n",
              "        docLink.innerHTML = docLinkHtml;\n",
              "        element.appendChild(docLink);\n",
              "      }\n",
              "    </script>\n",
              "  </div>\n",
              "\n",
              "\n",
              "    <div id=\"df-2369fe57-2666-467d-933c-6f6bba16e21b\">\n",
              "      <button class=\"colab-df-quickchart\" onclick=\"quickchart('df-2369fe57-2666-467d-933c-6f6bba16e21b')\"\n",
              "                title=\"Suggest charts\"\n",
              "                style=\"display:none;\">\n",
              "\n",
              "<svg xmlns=\"http://www.w3.org/2000/svg\" height=\"24px\"viewBox=\"0 0 24 24\"\n",
              "     width=\"24px\">\n",
              "    <g>\n",
              "        <path d=\"M19 3H5c-1.1 0-2 .9-2 2v14c0 1.1.9 2 2 2h14c1.1 0 2-.9 2-2V5c0-1.1-.9-2-2-2zM9 17H7v-7h2v7zm4 0h-2V7h2v10zm4 0h-2v-4h2v4z\"/>\n",
              "    </g>\n",
              "</svg>\n",
              "      </button>\n",
              "\n",
              "<style>\n",
              "  .colab-df-quickchart {\n",
              "      --bg-color: #E8F0FE;\n",
              "      --fill-color: #1967D2;\n",
              "      --hover-bg-color: #E2EBFA;\n",
              "      --hover-fill-color: #174EA6;\n",
              "      --disabled-fill-color: #AAA;\n",
              "      --disabled-bg-color: #DDD;\n",
              "  }\n",
              "\n",
              "  [theme=dark] .colab-df-quickchart {\n",
              "      --bg-color: #3B4455;\n",
              "      --fill-color: #D2E3FC;\n",
              "      --hover-bg-color: #434B5C;\n",
              "      --hover-fill-color: #FFFFFF;\n",
              "      --disabled-bg-color: #3B4455;\n",
              "      --disabled-fill-color: #666;\n",
              "  }\n",
              "\n",
              "  .colab-df-quickchart {\n",
              "    background-color: var(--bg-color);\n",
              "    border: none;\n",
              "    border-radius: 50%;\n",
              "    cursor: pointer;\n",
              "    display: none;\n",
              "    fill: var(--fill-color);\n",
              "    height: 32px;\n",
              "    padding: 0;\n",
              "    width: 32px;\n",
              "  }\n",
              "\n",
              "  .colab-df-quickchart:hover {\n",
              "    background-color: var(--hover-bg-color);\n",
              "    box-shadow: 0 1px 2px rgba(60, 64, 67, 0.3), 0 1px 3px 1px rgba(60, 64, 67, 0.15);\n",
              "    fill: var(--button-hover-fill-color);\n",
              "  }\n",
              "\n",
              "  .colab-df-quickchart-complete:disabled,\n",
              "  .colab-df-quickchart-complete:disabled:hover {\n",
              "    background-color: var(--disabled-bg-color);\n",
              "    fill: var(--disabled-fill-color);\n",
              "    box-shadow: none;\n",
              "  }\n",
              "\n",
              "  .colab-df-spinner {\n",
              "    border: 2px solid var(--fill-color);\n",
              "    border-color: transparent;\n",
              "    border-bottom-color: var(--fill-color);\n",
              "    animation:\n",
              "      spin 1s steps(1) infinite;\n",
              "  }\n",
              "\n",
              "  @keyframes spin {\n",
              "    0% {\n",
              "      border-color: transparent;\n",
              "      border-bottom-color: var(--fill-color);\n",
              "      border-left-color: var(--fill-color);\n",
              "    }\n",
              "    20% {\n",
              "      border-color: transparent;\n",
              "      border-left-color: var(--fill-color);\n",
              "      border-top-color: var(--fill-color);\n",
              "    }\n",
              "    30% {\n",
              "      border-color: transparent;\n",
              "      border-left-color: var(--fill-color);\n",
              "      border-top-color: var(--fill-color);\n",
              "      border-right-color: var(--fill-color);\n",
              "    }\n",
              "    40% {\n",
              "      border-color: transparent;\n",
              "      border-right-color: var(--fill-color);\n",
              "      border-top-color: var(--fill-color);\n",
              "    }\n",
              "    60% {\n",
              "      border-color: transparent;\n",
              "      border-right-color: var(--fill-color);\n",
              "    }\n",
              "    80% {\n",
              "      border-color: transparent;\n",
              "      border-right-color: var(--fill-color);\n",
              "      border-bottom-color: var(--fill-color);\n",
              "    }\n",
              "    90% {\n",
              "      border-color: transparent;\n",
              "      border-bottom-color: var(--fill-color);\n",
              "    }\n",
              "  }\n",
              "</style>\n",
              "\n",
              "      <script>\n",
              "        async function quickchart(key) {\n",
              "          const quickchartButtonEl =\n",
              "            document.querySelector('#' + key + ' button');\n",
              "          quickchartButtonEl.disabled = true;  // To prevent multiple clicks.\n",
              "          quickchartButtonEl.classList.add('colab-df-spinner');\n",
              "          try {\n",
              "            const charts = await google.colab.kernel.invokeFunction(\n",
              "                'suggestCharts', [key], {});\n",
              "          } catch (error) {\n",
              "            console.error('Error during call to suggestCharts:', error);\n",
              "          }\n",
              "          quickchartButtonEl.classList.remove('colab-df-spinner');\n",
              "          quickchartButtonEl.classList.add('colab-df-quickchart-complete');\n",
              "        }\n",
              "        (() => {\n",
              "          let quickchartButtonEl =\n",
              "            document.querySelector('#df-2369fe57-2666-467d-933c-6f6bba16e21b button');\n",
              "          quickchartButtonEl.style.display =\n",
              "            google.colab.kernel.accessAllowed ? 'block' : 'none';\n",
              "        })();\n",
              "      </script>\n",
              "    </div>\n",
              "\n",
              "  <div id=\"id_d80dbd4e-2a55-4405-8578-75e323d7bdd2\">\n",
              "    <style>\n",
              "      .colab-df-generate {\n",
              "        background-color: #E8F0FE;\n",
              "        border: none;\n",
              "        border-radius: 50%;\n",
              "        cursor: pointer;\n",
              "        display: none;\n",
              "        fill: #1967D2;\n",
              "        height: 32px;\n",
              "        padding: 0 0 0 0;\n",
              "        width: 32px;\n",
              "      }\n",
              "\n",
              "      .colab-df-generate:hover {\n",
              "        background-color: #E2EBFA;\n",
              "        box-shadow: 0px 1px 2px rgba(60, 64, 67, 0.3), 0px 1px 3px 1px rgba(60, 64, 67, 0.15);\n",
              "        fill: #174EA6;\n",
              "      }\n",
              "\n",
              "      [theme=dark] .colab-df-generate {\n",
              "        background-color: #3B4455;\n",
              "        fill: #D2E3FC;\n",
              "      }\n",
              "\n",
              "      [theme=dark] .colab-df-generate:hover {\n",
              "        background-color: #434B5C;\n",
              "        box-shadow: 0px 1px 3px 1px rgba(0, 0, 0, 0.15);\n",
              "        filter: drop-shadow(0px 1px 2px rgba(0, 0, 0, 0.3));\n",
              "        fill: #FFFFFF;\n",
              "      }\n",
              "    </style>\n",
              "    <button class=\"colab-df-generate\" onclick=\"generateWithVariable('df')\"\n",
              "            title=\"Generate code using this dataframe.\"\n",
              "            style=\"display:none;\">\n",
              "\n",
              "  <svg xmlns=\"http://www.w3.org/2000/svg\" height=\"24px\"viewBox=\"0 0 24 24\"\n",
              "       width=\"24px\">\n",
              "    <path d=\"M7,19H8.4L18.45,9,17,7.55,7,17.6ZM5,21V16.75L18.45,3.32a2,2,0,0,1,2.83,0l1.4,1.43a1.91,1.91,0,0,1,.58,1.4,1.91,1.91,0,0,1-.58,1.4L9.25,21ZM18.45,9,17,7.55Zm-12,3A5.31,5.31,0,0,0,4.9,8.1,5.31,5.31,0,0,0,1,6.5,5.31,5.31,0,0,0,4.9,4.9,5.31,5.31,0,0,0,6.5,1,5.31,5.31,0,0,0,8.1,4.9,5.31,5.31,0,0,0,12,6.5,5.46,5.46,0,0,0,6.5,12Z\"/>\n",
              "  </svg>\n",
              "    </button>\n",
              "    <script>\n",
              "      (() => {\n",
              "      const buttonEl =\n",
              "        document.querySelector('#id_d80dbd4e-2a55-4405-8578-75e323d7bdd2 button.colab-df-generate');\n",
              "      buttonEl.style.display =\n",
              "        google.colab.kernel.accessAllowed ? 'block' : 'none';\n",
              "\n",
              "      buttonEl.onclick = () => {\n",
              "        google.colab.notebook.generateWithVariable('df');\n",
              "      }\n",
              "      })();\n",
              "    </script>\n",
              "  </div>\n",
              "\n",
              "    </div>\n",
              "  </div>\n"
            ],
            "text/plain": [
              "    รหัสนักศึกษา      ชื่อ   อายุ     เพศ             คณะ   GPA  ส่วนสูง_cm  \\\n",
              "0          64001     สมชาย   20.0     ชาย     วิทยาศาสตร์  3.21       170.0   \n",
              "1          64002    สมหญิง   21.0    หญิง           วิทย์  3.45       165.0   \n",
              "2          64003       NaN    NaN    Male         Science  3.67       175.0   \n",
              "3          64004  สมศักดิ์   22.0       ช  คณะวิทยาศาสตร์ -1.00       168.0   \n",
              "4          64005      สมใจ   19.0       ญ           วิศวะ  3.89       160.0   \n",
              "5          64006     กานต์  150.0     ชาย     Engineering  3.12       172.0   \n",
              "6          64007     กิตติ   21.0    หญิง        วิศวกรรม  4.50       158.0   \n",
              "7          64008      จิรา   20.0       F      ศิลปศาสตร์  2.98       180.0   \n",
              "8          64009    ชนาธิป   23.0       M            Arts  3.34       163.0   \n",
              "9          64010      ดารา   21.0    หญิง           ศิลป์  3.56       167.0   \n",
              "10         64011      ธีระ    NaN     NaN             NaN  3.78         NaN   \n",
              "11         64012       นภา   22.0     ชาย           วิทย์   NaN       171.0   \n",
              "12         64013     บุญมี   20.0    หญิง           วิศวฯ  3.23       169.0   \n",
              "13         64014     ปรีชา   21.0     ชาย    Liberal Arts  3.45       164.0   \n",
              "14         64015     พิมพ์   22.0  Female             Sci  3.67       162.0   \n",
              "15         64016      ภูมิ   19.0       ช     วิทยาศาสตร์  3.89       173.0   \n",
              "16         64017      มานี   20.0       ญ  วิศวกรรมศาสตร์  3.01       166.0   \n",
              "17         64018      ยุพา   21.0    หญิง             NaN  3.23       161.0   \n",
              "18         64019     รัตนา    NaN     ชาย      ศิลปศาสตร์   NaN       174.0   \n",
              "19         64020     ลัดดา   22.0     NaN         Science  3.45       168.0   \n",
              "\n",
              "    น้ำหนัก_kg  ชั่วโมงเรียน_ต่อสัปดาห์ วันที่ลงทะเบียน  \n",
              "0         65.0                     15.0      2024-01-23  \n",
              "1         58.0                     20.0      2024-02-05  \n",
              "2          NaN                     25.0      2024-01-13  \n",
              "3         70.0                     10.0      2023-12-30  \n",
              "4         52.0                     30.0      2024-01-27  \n",
              "5         75.0                     12.0      2023-12-23  \n",
              "6         48.0                     35.0      2024-01-05  \n",
              "7         82.0                     18.0      2024-01-23  \n",
              "8         55.0                     22.0      2024-02-11  \n",
              "9         60.0                     28.0      2024-01-03  \n",
              "10        68.0                      NaN      2024-01-07  \n",
              "11         NaN                     16.0      2023-12-26  \n",
              "12        72.0                     24.0      2023-12-26  \n",
              "13        54.0                     19.0      2024-01-08  \n",
              "14        56.0                     26.0      2024-02-06  \n",
              "15        78.0                     14.0      2024-01-20  \n",
              "16        62.0                     21.0      2024-01-24  \n",
              "17        50.0                     27.0      2024-01-08  \n",
              "18        76.0                      NaN      2023-12-18  \n",
              "19        64.0                     23.0      2024-01-06  "
            ]
          },
          "execution_count": 147,
          "metadata": {},
          "output_type": "execute_result"
        }
      ],
      "source": [
        "df"
      ]
    },
    {
      "cell_type": "markdown",
      "metadata": {
        "id": "rW7CzUcIfTXx"
      },
      "source": [
        "ข้อมูลก่อนลบ"
      ]
    },
    {
      "cell_type": "code",
      "execution_count": 148,
      "metadata": {
        "colab": {
          "base_uri": "https://localhost:8080/"
        },
        "id": "YbtNE6sZW4dh",
        "outputId": "f55e5f60-4040-4de7-a084-35f5b785e3ea"
      },
      "outputs": [
        {
          "name": "stdout",
          "output_type": "stream",
          "text": [
            "ก่อนลบ\n",
            "    รหัสนักศึกษา      ชื่อ   อายุ     เพศ             คณะ   GPA  ส่วนสูง_cm  \\\n",
            "0          64001     สมชาย   20.0     ชาย     วิทยาศาสตร์  3.21       170.0   \n",
            "1          64002    สมหญิง   21.0    หญิง           วิทย์  3.45       165.0   \n",
            "2          64003       NaN    NaN    Male         Science  3.67       175.0   \n",
            "3          64004  สมศักดิ์   22.0       ช  คณะวิทยาศาสตร์ -1.00       168.0   \n",
            "4          64005      สมใจ   19.0       ญ           วิศวะ  3.89       160.0   \n",
            "5          64006     กานต์  150.0     ชาย     Engineering  3.12       172.0   \n",
            "6          64007     กิตติ   21.0    หญิง        วิศวกรรม  4.50       158.0   \n",
            "7          64008      จิรา   20.0       F      ศิลปศาสตร์  2.98       180.0   \n",
            "8          64009    ชนาธิป   23.0       M            Arts  3.34       163.0   \n",
            "9          64010      ดารา   21.0    หญิง           ศิลป์  3.56       167.0   \n",
            "10         64011      ธีระ    NaN     NaN             NaN  3.78         NaN   \n",
            "11         64012       นภา   22.0     ชาย           วิทย์   NaN       171.0   \n",
            "12         64013     บุญมี   20.0    หญิง           วิศวฯ  3.23       169.0   \n",
            "13         64014     ปรีชา   21.0     ชาย    Liberal Arts  3.45       164.0   \n",
            "14         64015     พิมพ์   22.0  Female             Sci  3.67       162.0   \n",
            "15         64016      ภูมิ   19.0       ช     วิทยาศาสตร์  3.89       173.0   \n",
            "16         64017      มานี   20.0       ญ  วิศวกรรมศาสตร์  3.01       166.0   \n",
            "17         64018      ยุพา   21.0    หญิง             NaN  3.23       161.0   \n",
            "18         64019     รัตนา    NaN     ชาย      ศิลปศาสตร์   NaN       174.0   \n",
            "19         64020     ลัดดา   22.0     NaN         Science  3.45       168.0   \n",
            "\n",
            "    น้ำหนัก_kg  ชั่วโมงเรียน_ต่อสัปดาห์ วันที่ลงทะเบียน  \n",
            "0         65.0                     15.0      2024-01-23  \n",
            "1         58.0                     20.0      2024-02-05  \n",
            "2          NaN                     25.0      2024-01-13  \n",
            "3         70.0                     10.0      2023-12-30  \n",
            "4         52.0                     30.0      2024-01-27  \n",
            "5         75.0                     12.0      2023-12-23  \n",
            "6         48.0                     35.0      2024-01-05  \n",
            "7         82.0                     18.0      2024-01-23  \n",
            "8         55.0                     22.0      2024-02-11  \n",
            "9         60.0                     28.0      2024-01-03  \n",
            "10        68.0                      NaN      2024-01-07  \n",
            "11         NaN                     16.0      2023-12-26  \n",
            "12        72.0                     24.0      2023-12-26  \n",
            "13        54.0                     19.0      2024-01-08  \n",
            "14        56.0                     26.0      2024-02-06  \n",
            "15        78.0                     14.0      2024-01-20  \n",
            "16        62.0                     21.0      2024-01-24  \n",
            "17        50.0                     27.0      2024-01-08  \n",
            "18        76.0                      NaN      2023-12-18  \n",
            "19        64.0                     23.0      2024-01-06  \n"
          ]
        }
      ],
      "source": [
        "print(\"ก่อนลบ\")\n",
        "print(df)"
      ]
    },
    {
      "cell_type": "markdown",
      "metadata": {
        "id": "0rdNk2eOgOvq"
      },
      "source": [
        "#1.เทคนิคการจัดการข้อมูลพื้นฐาน\n"
      ]
    },
    {
      "cell_type": "markdown",
      "metadata": {
        "id": "Ds1bqqTXjlPU"
      },
      "source": [
        "**1.1การจัดการข้อมูลหาย**"
      ]
    },
    {
      "cell_type": "markdown",
      "metadata": {
        "id": "qv7zEqSnfX9y"
      },
      "source": [
        "**ทำการcleanข้อมูลด้วยการdropnaและแสดงข้อมูลหลังการทำงาน อ้างอิงข้อมูลจากไฟล์ student.csv**"
      ]
    },
    {
      "cell_type": "code",
      "execution_count": 170,
      "metadata": {
        "colab": {
          "base_uri": "https://localhost:8080/"
        },
        "id": "GsEG5ICub08F",
        "outputId": "1cda90f5-f21c-49c6-b1b1-4f9021c3b52a"
      },
      "outputs": [
        {
          "name": "stdout",
          "output_type": "stream",
          "text": [
            "\n",
            "ผลการลบ - ก่อนลบ 20 แถว, หลังลบ 12 แถว\n",
            "หลังลบ (เหลือ 9 คน):\n",
            "    รหัสนักศึกษา      ชื่อ   อายุ     เพศ             คณะ       GPA  \\\n",
            "0          64001     สมชาย   20.0     ชาย     วิทยาศาสตร์  3.210000   \n",
            "1          64002    สมหญิง   21.0    หญิง           วิทย์  3.450000   \n",
            "3          64004  สมศักดิ์   22.0       ช  คณะวิทยาศาสตร์  3.466471   \n",
            "5          64006     กานต์  150.0     ชาย     Engineering  3.120000   \n",
            "7          64008      จิรา   20.0       F      ศิลปศาสตร์  2.980000   \n",
            "8          64009    ชนาธิป   23.0       M            Arts  3.340000   \n",
            "9          64010      ดารา   21.0    หญิง           ศิลป์  3.560000   \n",
            "13         64014     ปรีชา   21.0     ชาย    Liberal Arts  3.450000   \n",
            "14         64015     พิมพ์   22.0  Female             Sci  3.670000   \n",
            "15         64016      ภูมิ   19.0       ช     วิทยาศาสตร์  3.890000   \n",
            "16         64017      มานี   20.0       ญ  วิศวกรรมศาสตร์  3.010000   \n",
            "17         64018      ยุพา   21.0    หญิง         Science  3.230000   \n",
            "\n",
            "    ส่วนสูง_cm  น้ำหนัก_kg  ชั่วโมงเรียน_ต่อสัปดาห์ วันที่ลงทะเบียน  \\\n",
            "0        170.0        65.0                     15.0      2024-01-23   \n",
            "1        165.0        58.0                     20.0      2024-02-05   \n",
            "3        168.0        70.0                     10.0      2023-12-30   \n",
            "5        172.0        75.0                     12.0      2023-12-23   \n",
            "7        180.0        82.0                     18.0      2024-01-23   \n",
            "8        163.0        55.0                     22.0      2024-02-11   \n",
            "9        167.0        60.0                     28.0      2024-01-03   \n",
            "13       164.0        54.0                     19.0      2024-01-08   \n",
            "14       162.0        56.0                     26.0      2024-02-06   \n",
            "15       173.0        78.0                     14.0      2024-01-20   \n",
            "16       166.0        62.0                     21.0      2024-01-24   \n",
            "17       161.0        50.0                     27.0      2024-01-08   \n",
            "\n",
            "       คณะ_มาตรฐาน  ชั่วโมง วันในสัปดาห์   ช่วงเวลา        BMI สุขภาพ  \n",
            "0      วิทยาศาสตร์     15.0      Tuesday    ปานกลาง  22.491349   ปกติ  \n",
            "1      วิทยาศาสตร์     20.0       Monday        มาก  21.303949   ปกติ  \n",
            "3      วิทยาศาสตร์     10.0     Saturday       น้อย  24.801587   ปกติ  \n",
            "5      Engineering     12.0     Saturday    ปานกลาง  25.351541   อ้วน  \n",
            "7       ศิลปศาสตร์     18.0      Tuesday        มาก  25.308642   อ้วน  \n",
            "8       ศิลปศาสตร์     22.0       Sunday  มากที่สุด  20.700817   ปกติ  \n",
            "9       ศิลปศาสตร์     28.0    Wednesday  มากที่สุด  21.513859   ปกติ  \n",
            "13    Liberal Arts     19.0       Monday        มาก  20.077335   ปกติ  \n",
            "14             Sci     26.0      Tuesday  มากที่สุด  21.338211   ปกติ  \n",
            "15     วิทยาศาสตร์     14.0     Saturday    ปานกลาง  26.061679   อ้วน  \n",
            "16  วิศวกรรมศาสตร์     21.0    Wednesday  มากที่สุด  22.499637   ปกติ  \n",
            "17     วิทยาศาสตร์     27.0       Monday  มากที่สุด  19.289379   ปกติ  \n"
          ]
        }
      ],
      "source": [
        "df_clean = df.dropna()\n",
        "print(f\"\\nผลการลบ - ก่อนลบ {len(df)} แถว, หลังลบ {len(df_clean)} แถว\")\n",
        "print(\"หลังลบ (เหลือ 9 คน):\")\n",
        "print(df_clean)"
      ]
    },
    {
      "cell_type": "markdown",
      "metadata": {
        "id": "Dveyw8mDgVdJ"
      },
      "source": [
        "**1.2เติมค่าด้วยค่าเฉลี่ยในช่องที่ข้อมูลไม่มี อ้างอิงข้อมูลจากไฟล์ student.csv**"
      ]
    },
    {
      "cell_type": "code",
      "execution_count": 150,
      "metadata": {
        "colab": {
          "base_uri": "https://localhost:8080/"
        },
        "id": "YWblISs4fgr1",
        "outputId": "81b5cbbd-7fdb-46fc-956c-1649d4207b21"
      },
      "outputs": [
        {
          "name": "stdout",
          "output_type": "stream",
          "text": [
            "ก่อนเติมค่า\n",
            "    รหัสนักศึกษา      ชื่อ   อายุ     เพศ             คณะ   GPA  ส่วนสูง_cm  \\\n",
            "0          64001     สมชาย   20.0     ชาย     วิทยาศาสตร์  3.21       170.0   \n",
            "1          64002    สมหญิง   21.0    หญิง           วิทย์  3.45       165.0   \n",
            "2          64003       NaN    NaN    Male         Science  3.67       175.0   \n",
            "3          64004  สมศักดิ์   22.0       ช  คณะวิทยาศาสตร์ -1.00       168.0   \n",
            "4          64005      สมใจ   19.0       ญ           วิศวะ  3.89       160.0   \n",
            "5          64006     กานต์  150.0     ชาย     Engineering  3.12       172.0   \n",
            "6          64007     กิตติ   21.0    หญิง        วิศวกรรม  4.50       158.0   \n",
            "7          64008      จิรา   20.0       F      ศิลปศาสตร์  2.98       180.0   \n",
            "8          64009    ชนาธิป   23.0       M            Arts  3.34       163.0   \n",
            "9          64010      ดารา   21.0    หญิง           ศิลป์  3.56       167.0   \n",
            "10         64011      ธีระ    NaN     NaN             NaN  3.78         NaN   \n",
            "11         64012       นภา   22.0     ชาย           วิทย์   NaN       171.0   \n",
            "12         64013     บุญมี   20.0    หญิง           วิศวฯ  3.23       169.0   \n",
            "13         64014     ปรีชา   21.0     ชาย    Liberal Arts  3.45       164.0   \n",
            "14         64015     พิมพ์   22.0  Female             Sci  3.67       162.0   \n",
            "15         64016      ภูมิ   19.0       ช     วิทยาศาสตร์  3.89       173.0   \n",
            "16         64017      มานี   20.0       ญ  วิศวกรรมศาสตร์  3.01       166.0   \n",
            "17         64018      ยุพา   21.0    หญิง             NaN  3.23       161.0   \n",
            "18         64019     รัตนา    NaN     ชาย      ศิลปศาสตร์   NaN       174.0   \n",
            "19         64020     ลัดดา   22.0     NaN         Science  3.45       168.0   \n",
            "\n",
            "    น้ำหนัก_kg  ชั่วโมงเรียน_ต่อสัปดาห์ วันที่ลงทะเบียน  \n",
            "0         65.0                     15.0      2024-01-23  \n",
            "1         58.0                     20.0      2024-02-05  \n",
            "2          NaN                     25.0      2024-01-13  \n",
            "3         70.0                     10.0      2023-12-30  \n",
            "4         52.0                     30.0      2024-01-27  \n",
            "5         75.0                     12.0      2023-12-23  \n",
            "6         48.0                     35.0      2024-01-05  \n",
            "7         82.0                     18.0      2024-01-23  \n",
            "8         55.0                     22.0      2024-02-11  \n",
            "9         60.0                     28.0      2024-01-03  \n",
            "10        68.0                      NaN      2024-01-07  \n",
            "11         NaN                     16.0      2023-12-26  \n",
            "12        72.0                     24.0      2023-12-26  \n",
            "13        54.0                     19.0      2024-01-08  \n",
            "14        56.0                     26.0      2024-02-06  \n",
            "15        78.0                     14.0      2024-01-20  \n",
            "16        62.0                     21.0      2024-01-24  \n",
            "17        50.0                     27.0      2024-01-08  \n",
            "18        76.0                      NaN      2023-12-18  \n",
            "19        64.0                     23.0      2024-01-06  \n"
          ]
        }
      ],
      "source": [
        "print(\"ก่อนเติมค่า\")\n",
        "print(df)"
      ]
    },
    {
      "cell_type": "code",
      "execution_count": 151,
      "metadata": {
        "colab": {
          "base_uri": "https://localhost:8080/"
        },
        "id": "4d8U00HxgtQ4",
        "outputId": "abbf4201-586b-41e8-a3e1-bbbb3a57a5ef"
      },
      "outputs": [
        {
          "name": "stdout",
          "output_type": "stream",
          "text": [
            "\n",
            "ค่าเฉลี่ยอายุ - 28.5 ปี\n",
            "หลังเติมค่า\n",
            "    รหัสนักศึกษา      ชื่อ        อายุ     เพศ             คณะ   GPA  \\\n",
            "0          64001     สมชาย   20.000000     ชาย     วิทยาศาสตร์  3.21   \n",
            "1          64002    สมหญิง   21.000000    หญิง           วิทย์  3.45   \n",
            "2          64003       NaN   28.470588    Male         Science  3.67   \n",
            "3          64004  สมศักดิ์   22.000000       ช  คณะวิทยาศาสตร์ -1.00   \n",
            "4          64005      สมใจ   19.000000       ญ           วิศวะ  3.89   \n",
            "5          64006     กานต์  150.000000     ชาย     Engineering  3.12   \n",
            "6          64007     กิตติ   21.000000    หญิง        วิศวกรรม  4.50   \n",
            "7          64008      จิรา   20.000000       F      ศิลปศาสตร์  2.98   \n",
            "8          64009    ชนาธิป   23.000000       M            Arts  3.34   \n",
            "9          64010      ดารา   21.000000    หญิง           ศิลป์  3.56   \n",
            "10         64011      ธีระ   28.470588     NaN             NaN  3.78   \n",
            "11         64012       นภา   22.000000     ชาย           วิทย์   NaN   \n",
            "12         64013     บุญมี   20.000000    หญิง           วิศวฯ  3.23   \n",
            "13         64014     ปรีชา   21.000000     ชาย    Liberal Arts  3.45   \n",
            "14         64015     พิมพ์   22.000000  Female             Sci  3.67   \n",
            "15         64016      ภูมิ   19.000000       ช     วิทยาศาสตร์  3.89   \n",
            "16         64017      มานี   20.000000       ญ  วิศวกรรมศาสตร์  3.01   \n",
            "17         64018      ยุพา   21.000000    หญิง             NaN  3.23   \n",
            "18         64019     รัตนา   28.470588     ชาย      ศิลปศาสตร์   NaN   \n",
            "19         64020     ลัดดา   22.000000     NaN         Science  3.45   \n",
            "\n",
            "    ส่วนสูง_cm  น้ำหนัก_kg  ชั่วโมงเรียน_ต่อสัปดาห์ วันที่ลงทะเบียน  \n",
            "0        170.0        65.0                     15.0      2024-01-23  \n",
            "1        165.0        58.0                     20.0      2024-02-05  \n",
            "2        175.0         NaN                     25.0      2024-01-13  \n",
            "3        168.0        70.0                     10.0      2023-12-30  \n",
            "4        160.0        52.0                     30.0      2024-01-27  \n",
            "5        172.0        75.0                     12.0      2023-12-23  \n",
            "6        158.0        48.0                     35.0      2024-01-05  \n",
            "7        180.0        82.0                     18.0      2024-01-23  \n",
            "8        163.0        55.0                     22.0      2024-02-11  \n",
            "9        167.0        60.0                     28.0      2024-01-03  \n",
            "10         NaN        68.0                      NaN      2024-01-07  \n",
            "11       171.0         NaN                     16.0      2023-12-26  \n",
            "12       169.0        72.0                     24.0      2023-12-26  \n",
            "13       164.0        54.0                     19.0      2024-01-08  \n",
            "14       162.0        56.0                     26.0      2024-02-06  \n",
            "15       173.0        78.0                     14.0      2024-01-20  \n",
            "16       166.0        62.0                     21.0      2024-01-24  \n",
            "17       161.0        50.0                     27.0      2024-01-08  \n",
            "18       174.0        76.0                      NaN      2023-12-18  \n",
            "19       168.0        64.0                     23.0      2024-01-06  \n"
          ]
        },
        {
          "name": "stderr",
          "output_type": "stream",
          "text": [
            "/tmp/ipython-input-1218738133.py:3: FutureWarning: A value is trying to be set on a copy of a DataFrame or Series through chained assignment using an inplace method.\n",
            "The behavior will change in pandas 3.0. This inplace method will never work because the intermediate object on which we are setting values always behaves as a copy.\n",
            "\n",
            "For example, when doing 'df[col].method(value, inplace=True)', try using 'df.method({col: value}, inplace=True)' or df[col] = df[col].method(value) instead, to perform the operation inplace on the original object.\n",
            "\n",
            "\n",
            "  df['อายุ'].fillna(mean_age, inplace=True)\n"
          ]
        }
      ],
      "source": [
        "# เหมาะกับข้อมูลตัวเลข - ใช้ค่าเฉลี่ย\n",
        "mean_age = df['อายุ'].mean()\n",
        "df['อายุ'].fillna(mean_age, inplace=True)\n",
        "\n",
        "print(f\"\\nค่าเฉลี่ยอายุ - {mean_age:.1f} ปี\")\n",
        "print(\"หลังเติมค่า\")\n",
        "print(df)"
      ]
    },
    {
      "cell_type": "markdown",
      "metadata": {
        "id": "rnRRSri-hSOi"
      },
      "source": [
        "**1.3 เติมค่าด้วยค่าที่พบบ่อยที่สุด อ้างอิงข้อมูลจากไฟล์ student.csv**"
      ]
    },
    {
      "cell_type": "code",
      "execution_count": 152,
      "metadata": {
        "colab": {
          "base_uri": "https://localhost:8080/"
        },
        "id": "97T6zMveg1hV",
        "outputId": "d914dbff-79b7-47f2-d135-228114ef3877"
      },
      "outputs": [
        {
          "name": "stdout",
          "output_type": "stream",
          "text": [
            "ก่อนเติมค่า\n",
            "    รหัสนักศึกษา      ชื่อ        อายุ     เพศ             คณะ   GPA  \\\n",
            "0          64001     สมชาย   20.000000     ชาย     วิทยาศาสตร์  3.21   \n",
            "1          64002    สมหญิง   21.000000    หญิง           วิทย์  3.45   \n",
            "2          64003       NaN   28.470588    Male         Science  3.67   \n",
            "3          64004  สมศักดิ์   22.000000       ช  คณะวิทยาศาสตร์ -1.00   \n",
            "4          64005      สมใจ   19.000000       ญ           วิศวะ  3.89   \n",
            "5          64006     กานต์  150.000000     ชาย     Engineering  3.12   \n",
            "6          64007     กิตติ   21.000000    หญิง        วิศวกรรม  4.50   \n",
            "7          64008      จิรา   20.000000       F      ศิลปศาสตร์  2.98   \n",
            "8          64009    ชนาธิป   23.000000       M            Arts  3.34   \n",
            "9          64010      ดารา   21.000000    หญิง           ศิลป์  3.56   \n",
            "10         64011      ธีระ   28.470588     NaN             NaN  3.78   \n",
            "11         64012       นภา   22.000000     ชาย           วิทย์   NaN   \n",
            "12         64013     บุญมี   20.000000    หญิง           วิศวฯ  3.23   \n",
            "13         64014     ปรีชา   21.000000     ชาย    Liberal Arts  3.45   \n",
            "14         64015     พิมพ์   22.000000  Female             Sci  3.67   \n",
            "15         64016      ภูมิ   19.000000       ช     วิทยาศาสตร์  3.89   \n",
            "16         64017      มานี   20.000000       ญ  วิศวกรรมศาสตร์  3.01   \n",
            "17         64018      ยุพา   21.000000    หญิง             NaN  3.23   \n",
            "18         64019     รัตนา   28.470588     ชาย      ศิลปศาสตร์   NaN   \n",
            "19         64020     ลัดดา   22.000000     NaN         Science  3.45   \n",
            "\n",
            "    ส่วนสูง_cm  น้ำหนัก_kg  ชั่วโมงเรียน_ต่อสัปดาห์ วันที่ลงทะเบียน  \n",
            "0        170.0        65.0                     15.0      2024-01-23  \n",
            "1        165.0        58.0                     20.0      2024-02-05  \n",
            "2        175.0         NaN                     25.0      2024-01-13  \n",
            "3        168.0        70.0                     10.0      2023-12-30  \n",
            "4        160.0        52.0                     30.0      2024-01-27  \n",
            "5        172.0        75.0                     12.0      2023-12-23  \n",
            "6        158.0        48.0                     35.0      2024-01-05  \n",
            "7        180.0        82.0                     18.0      2024-01-23  \n",
            "8        163.0        55.0                     22.0      2024-02-11  \n",
            "9        167.0        60.0                     28.0      2024-01-03  \n",
            "10         NaN        68.0                      NaN      2024-01-07  \n",
            "11       171.0         NaN                     16.0      2023-12-26  \n",
            "12       169.0        72.0                     24.0      2023-12-26  \n",
            "13       164.0        54.0                     19.0      2024-01-08  \n",
            "14       162.0        56.0                     26.0      2024-02-06  \n",
            "15       173.0        78.0                     14.0      2024-01-20  \n",
            "16       166.0        62.0                     21.0      2024-01-24  \n",
            "17       161.0        50.0                     27.0      2024-01-08  \n",
            "18       174.0        76.0                      NaN      2023-12-18  \n",
            "19       168.0        64.0                     23.0      2024-01-06  \n"
          ]
        }
      ],
      "source": [
        "# แสดงข้อมูลก่อนเติมค่า\n",
        "print(\"ก่อนเติมค่า\")\n",
        "print(df)"
      ]
    },
    {
      "cell_type": "code",
      "execution_count": 153,
      "metadata": {
        "colab": {
          "base_uri": "https://localhost:8080/"
        },
        "id": "J7erzymGhen1",
        "outputId": "2af70478-d85b-45c1-d157-bc513365190c"
      },
      "outputs": [
        {
          "name": "stdout",
          "output_type": "stream",
          "text": [
            "\n",
            "หลังเติมค่า\n",
            "    รหัสนักศึกษา      ชื่อ        อายุ     เพศ             คณะ   GPA  \\\n",
            "0          64001     สมชาย   20.000000     ชาย     วิทยาศาสตร์  3.21   \n",
            "1          64002    สมหญิง   21.000000    หญิง           วิทย์  3.45   \n",
            "2          64003       NaN   28.470588    Male         Science  3.67   \n",
            "3          64004  สมศักดิ์   22.000000       ช  คณะวิทยาศาสตร์ -1.00   \n",
            "4          64005      สมใจ   19.000000       ญ           วิศวะ  3.89   \n",
            "5          64006     กานต์  150.000000     ชาย     Engineering  3.12   \n",
            "6          64007     กิตติ   21.000000    หญิง        วิศวกรรม  4.50   \n",
            "7          64008      จิรา   20.000000       F      ศิลปศาสตร์  2.98   \n",
            "8          64009    ชนาธิป   23.000000       M            Arts  3.34   \n",
            "9          64010      ดารา   21.000000    หญิง           ศิลป์  3.56   \n",
            "10         64011      ธีระ   28.470588     NaN         Science  3.78   \n",
            "11         64012       นภา   22.000000     ชาย           วิทย์   NaN   \n",
            "12         64013     บุญมี   20.000000    หญิง           วิศวฯ  3.23   \n",
            "13         64014     ปรีชา   21.000000     ชาย    Liberal Arts  3.45   \n",
            "14         64015     พิมพ์   22.000000  Female             Sci  3.67   \n",
            "15         64016      ภูมิ   19.000000       ช     วิทยาศาสตร์  3.89   \n",
            "16         64017      มานี   20.000000       ญ  วิศวกรรมศาสตร์  3.01   \n",
            "17         64018      ยุพา   21.000000    หญิง         Science  3.23   \n",
            "18         64019     รัตนา   28.470588     ชาย      ศิลปศาสตร์   NaN   \n",
            "19         64020     ลัดดา   22.000000     NaN         Science  3.45   \n",
            "\n",
            "    ส่วนสูง_cm  น้ำหนัก_kg  ชั่วโมงเรียน_ต่อสัปดาห์ วันที่ลงทะเบียน  \n",
            "0        170.0        65.0                     15.0      2024-01-23  \n",
            "1        165.0        58.0                     20.0      2024-02-05  \n",
            "2        175.0         NaN                     25.0      2024-01-13  \n",
            "3        168.0        70.0                     10.0      2023-12-30  \n",
            "4        160.0        52.0                     30.0      2024-01-27  \n",
            "5        172.0        75.0                     12.0      2023-12-23  \n",
            "6        158.0        48.0                     35.0      2024-01-05  \n",
            "7        180.0        82.0                     18.0      2024-01-23  \n",
            "8        163.0        55.0                     22.0      2024-02-11  \n",
            "9        167.0        60.0                     28.0      2024-01-03  \n",
            "10         NaN        68.0                      NaN      2024-01-07  \n",
            "11       171.0         NaN                     16.0      2023-12-26  \n",
            "12       169.0        72.0                     24.0      2023-12-26  \n",
            "13       164.0        54.0                     19.0      2024-01-08  \n",
            "14       162.0        56.0                     26.0      2024-02-06  \n",
            "15       173.0        78.0                     14.0      2024-01-20  \n",
            "16       166.0        62.0                     21.0      2024-01-24  \n",
            "17       161.0        50.0                     27.0      2024-01-08  \n",
            "18       174.0        76.0                      NaN      2023-12-18  \n",
            "19       168.0        64.0                     23.0      2024-01-06  \n"
          ]
        },
        {
          "name": "stderr",
          "output_type": "stream",
          "text": [
            "/tmp/ipython-input-3408441774.py:2: FutureWarning: A value is trying to be set on a copy of a DataFrame or Series through chained assignment using an inplace method.\n",
            "The behavior will change in pandas 3.0. This inplace method will never work because the intermediate object on which we are setting values always behaves as a copy.\n",
            "\n",
            "For example, when doing 'df[col].method(value, inplace=True)', try using 'df.method({col: value}, inplace=True)' or df[col] = df[col].method(value) instead, to perform the operation inplace on the original object.\n",
            "\n",
            "\n",
            "  df['คณะ'].fillna(df['คณะ'].mode()[0], inplace=True)\n"
          ]
        }
      ],
      "source": [
        "# เหมาะกับข้อมูลประเภท - ใช้ค่าที่พบบ่อยที่สุด (mode)\n",
        "df['คณะ'].fillna(df['คณะ'].mode()[0], inplace=True)\n",
        "\n",
        "print(\"\\nหลังเติมค่า\")\n",
        "print(df)"
      ]
    },
    {
      "cell_type": "markdown",
      "metadata": {
        "id": "YmHvWjp7iFXy"
      },
      "source": [
        "#2.การทำข้อมูลให้เป็นมาตรฐาน อ้างอิงข้อมูลจากไฟล์ student.csv\n",
        "\n"
      ]
    },
    {
      "cell_type": "code",
      "execution_count": 154,
      "metadata": {
        "id": "SfMQHkidhjV-"
      },
      "outputs": [],
      "source": [
        "# ตัวอย่าง - ทำให้ชื่อคณะเป็นมาตรฐานเดียวกัน\n",
        "def standardize_faculty(name):\n",
        "    if name in ['วิทยาศาสตร์', 'วิทย์', 'Science', 'คณะวิทยาศาสตร์']:\n",
        "        return 'วิทยาศาสตร์'\n",
        "    elif name in ['ศิลปศาสตร์', 'ศิลป์', 'Arts']:\n",
        "        return 'ศิลปศาสตร์'\n",
        "    elif name in ['วิศวกรรม', 'engineering', 'วิศวฯ', 'วิศวะ']:\n",
        "        return\n",
        "    else:\n",
        "        return name\n",
        "\n",
        "# ใช้งาน\n",
        "df['คณะ_มาตรฐาน'] = df['คณะ'].apply(standardize_faculty)"
      ]
    },
    {
      "cell_type": "markdown",
      "metadata": {
        "id": "QMnBAaG8il7C"
      },
      "source": [
        "#3.การจัดการค่าผิดปกติ อ้างอิงข้อมูลจากไฟล์ student.csv\n"
      ]
    },
    {
      "cell_type": "code",
      "execution_count": 155,
      "metadata": {
        "colab": {
          "base_uri": "https://localhost:8080/"
        },
        "id": "FBxh2zKkiJsa",
        "outputId": "301d7807-c071-41ca-d06f-3a1ff1129a33"
      },
      "outputs": [
        {
          "name": "stdout",
          "output_type": "stream",
          "text": [
            "ข้อมูลต้นฉบับ\n",
            "    รหัสนักศึกษา      ชื่อ        อายุ     เพศ             คณะ   GPA  \\\n",
            "0          64001     สมชาย   20.000000     ชาย     วิทยาศาสตร์  3.21   \n",
            "1          64002    สมหญิง   21.000000    หญิง           วิทย์  3.45   \n",
            "2          64003       NaN   28.470588    Male         Science  3.67   \n",
            "3          64004  สมศักดิ์   22.000000       ช  คณะวิทยาศาสตร์ -1.00   \n",
            "4          64005      สมใจ   19.000000       ญ           วิศวะ  3.89   \n",
            "5          64006     กานต์  150.000000     ชาย     Engineering  3.12   \n",
            "6          64007     กิตติ   21.000000    หญิง        วิศวกรรม  4.50   \n",
            "7          64008      จิรา   20.000000       F      ศิลปศาสตร์  2.98   \n",
            "8          64009    ชนาธิป   23.000000       M            Arts  3.34   \n",
            "9          64010      ดารา   21.000000    หญิง           ศิลป์  3.56   \n",
            "10         64011      ธีระ   28.470588     NaN         Science  3.78   \n",
            "11         64012       นภา   22.000000     ชาย           วิทย์   NaN   \n",
            "12         64013     บุญมี   20.000000    หญิง           วิศวฯ  3.23   \n",
            "13         64014     ปรีชา   21.000000     ชาย    Liberal Arts  3.45   \n",
            "14         64015     พิมพ์   22.000000  Female             Sci  3.67   \n",
            "15         64016      ภูมิ   19.000000       ช     วิทยาศาสตร์  3.89   \n",
            "16         64017      มานี   20.000000       ญ  วิศวกรรมศาสตร์  3.01   \n",
            "17         64018      ยุพา   21.000000    หญิง         Science  3.23   \n",
            "18         64019     รัตนา   28.470588     ชาย      ศิลปศาสตร์   NaN   \n",
            "19         64020     ลัดดา   22.000000     NaN         Science  3.45   \n",
            "\n",
            "    ส่วนสูง_cm  น้ำหนัก_kg  ชั่วโมงเรียน_ต่อสัปดาห์ วันที่ลงทะเบียน  \\\n",
            "0        170.0        65.0                     15.0      2024-01-23   \n",
            "1        165.0        58.0                     20.0      2024-02-05   \n",
            "2        175.0         NaN                     25.0      2024-01-13   \n",
            "3        168.0        70.0                     10.0      2023-12-30   \n",
            "4        160.0        52.0                     30.0      2024-01-27   \n",
            "5        172.0        75.0                     12.0      2023-12-23   \n",
            "6        158.0        48.0                     35.0      2024-01-05   \n",
            "7        180.0        82.0                     18.0      2024-01-23   \n",
            "8        163.0        55.0                     22.0      2024-02-11   \n",
            "9        167.0        60.0                     28.0      2024-01-03   \n",
            "10         NaN        68.0                      NaN      2024-01-07   \n",
            "11       171.0         NaN                     16.0      2023-12-26   \n",
            "12       169.0        72.0                     24.0      2023-12-26   \n",
            "13       164.0        54.0                     19.0      2024-01-08   \n",
            "14       162.0        56.0                     26.0      2024-02-06   \n",
            "15       173.0        78.0                     14.0      2024-01-20   \n",
            "16       166.0        62.0                     21.0      2024-01-24   \n",
            "17       161.0        50.0                     27.0      2024-01-08   \n",
            "18       174.0        76.0                      NaN      2023-12-18   \n",
            "19       168.0        64.0                     23.0      2024-01-06   \n",
            "\n",
            "       คณะ_มาตรฐาน  \n",
            "0      วิทยาศาสตร์  \n",
            "1      วิทยาศาสตร์  \n",
            "2      วิทยาศาสตร์  \n",
            "3      วิทยาศาสตร์  \n",
            "4             None  \n",
            "5      Engineering  \n",
            "6             None  \n",
            "7       ศิลปศาสตร์  \n",
            "8       ศิลปศาสตร์  \n",
            "9       ศิลปศาสตร์  \n",
            "10     วิทยาศาสตร์  \n",
            "11     วิทยาศาสตร์  \n",
            "12            None  \n",
            "13    Liberal Arts  \n",
            "14             Sci  \n",
            "15     วิทยาศาสตร์  \n",
            "16  วิศวกรรมศาสตร์  \n",
            "17     วิทยาศาสตร์  \n",
            "18      ศิลปศาสตร์  \n",
            "19     วิทยาศาสตร์  \n",
            "\n",
            "ค่าเฉลี่ยอายุ (รวมค่าผิดปกติ) - 28.47\n"
          ]
        }
      ],
      "source": [
        "print(\"ข้อมูลต้นฉบับ\")\n",
        "print(df)\n",
        "print(f\"\\nค่าเฉลี่ยอายุ (รวมค่าผิดปกติ) - {df['อายุ'].mean():.2f}\")"
      ]
    },
    {
      "cell_type": "code",
      "execution_count": 156,
      "metadata": {
        "id": "_Td9HRnxiqjt"
      },
      "outputs": [],
      "source": [
        "#ใช้ IQR (Interquartile Range)\n",
        "Q1 = df['อายุ'].quantile(0.25)\n",
        "Q3 = df['อายุ'].quantile(0.75)\n",
        "IQR = Q3 - Q1\n",
        "# กำหนดขอบเขต\n",
        "lower_bound = Q1 - 1.5 * IQR\n",
        "upper_bound = Q3 + 1.5 * IQR\n",
        "# กรองค่าผิดปกติ\n",
        "df_no_outliers = df[(df['อายุ'] >= lower_bound) & (df['อายุ'] <= upper_bound)]"
      ]
    },
    {
      "cell_type": "code",
      "execution_count": 157,
      "metadata": {
        "colab": {
          "base_uri": "https://localhost:8080/"
        },
        "id": "XxralhgYi76W",
        "outputId": "45a635e7-d05b-4582-d1b6-16ecb7294551"
      },
      "outputs": [
        {
          "name": "stdout",
          "output_type": "stream",
          "text": [
            "\n",
            "ขอบเขตล่าง - 16.625\n",
            "ขอบเขตบน - 25.625\n"
          ]
        }
      ],
      "source": [
        "print(f\"\\nขอบเขตล่าง - {lower_bound}\")\n",
        "print(f\"ขอบเขตบน - {upper_bound}\")\n"
      ]
    },
    {
      "cell_type": "code",
      "execution_count": 158,
      "metadata": {
        "colab": {
          "base_uri": "https://localhost:8080/"
        },
        "id": "SeBJ_rOOsX_j",
        "outputId": "87950e31-2ab0-4575-f50d-93f51a04ffc4"
      },
      "outputs": [
        {
          "name": "stdout",
          "output_type": "stream",
          "text": [
            "\n",
            "ข้อมูลหลังกรองค่าผิดปกติ\n",
            "    รหัสนักศึกษา      ชื่อ  อายุ     เพศ             คณะ   GPA  ส่วนสูง_cm  \\\n",
            "0          64001     สมชาย  20.0     ชาย     วิทยาศาสตร์  3.21       170.0   \n",
            "1          64002    สมหญิง  21.0    หญิง           วิทย์  3.45       165.0   \n",
            "3          64004  สมศักดิ์  22.0       ช  คณะวิทยาศาสตร์ -1.00       168.0   \n",
            "4          64005      สมใจ  19.0       ญ           วิศวะ  3.89       160.0   \n",
            "6          64007     กิตติ  21.0    หญิง        วิศวกรรม  4.50       158.0   \n",
            "7          64008      จิรา  20.0       F      ศิลปศาสตร์  2.98       180.0   \n",
            "8          64009    ชนาธิป  23.0       M            Arts  3.34       163.0   \n",
            "9          64010      ดารา  21.0    หญิง           ศิลป์  3.56       167.0   \n",
            "11         64012       นภา  22.0     ชาย           วิทย์   NaN       171.0   \n",
            "12         64013     บุญมี  20.0    หญิง           วิศวฯ  3.23       169.0   \n",
            "13         64014     ปรีชา  21.0     ชาย    Liberal Arts  3.45       164.0   \n",
            "14         64015     พิมพ์  22.0  Female             Sci  3.67       162.0   \n",
            "15         64016      ภูมิ  19.0       ช     วิทยาศาสตร์  3.89       173.0   \n",
            "16         64017      มานี  20.0       ญ  วิศวกรรมศาสตร์  3.01       166.0   \n",
            "17         64018      ยุพา  21.0    หญิง         Science  3.23       161.0   \n",
            "19         64020     ลัดดา  22.0     NaN         Science  3.45       168.0   \n",
            "\n",
            "    น้ำหนัก_kg  ชั่วโมงเรียน_ต่อสัปดาห์ วันที่ลงทะเบียน     คณะ_มาตรฐาน  \n",
            "0         65.0                     15.0      2024-01-23     วิทยาศาสตร์  \n",
            "1         58.0                     20.0      2024-02-05     วิทยาศาสตร์  \n",
            "3         70.0                     10.0      2023-12-30     วิทยาศาสตร์  \n",
            "4         52.0                     30.0      2024-01-27            None  \n",
            "6         48.0                     35.0      2024-01-05            None  \n",
            "7         82.0                     18.0      2024-01-23      ศิลปศาสตร์  \n",
            "8         55.0                     22.0      2024-02-11      ศิลปศาสตร์  \n",
            "9         60.0                     28.0      2024-01-03      ศิลปศาสตร์  \n",
            "11         NaN                     16.0      2023-12-26     วิทยาศาสตร์  \n",
            "12        72.0                     24.0      2023-12-26            None  \n",
            "13        54.0                     19.0      2024-01-08    Liberal Arts  \n",
            "14        56.0                     26.0      2024-02-06             Sci  \n",
            "15        78.0                     14.0      2024-01-20     วิทยาศาสตร์  \n",
            "16        62.0                     21.0      2024-01-24  วิศวกรรมศาสตร์  \n",
            "17        50.0                     27.0      2024-01-08     วิทยาศาสตร์  \n",
            "19        64.0                     23.0      2024-01-06     วิทยาศาสตร์  \n",
            "\n",
            "ค่าเฉลี่ยอายุ (หลังกรองค่าผิดปกติ) - 20.88\n"
          ]
        }
      ],
      "source": [
        "print(f\"\\nข้อมูลหลังกรองค่าผิดปกติ\")\n",
        "print(df_no_outliers)\n",
        "print(f\"\\nค่าเฉลี่ยอายุ (หลังกรองค่าผิดปกติ) - {df_no_outliers['อายุ'].mean():.2f}\")"
      ]
    },
    {
      "cell_type": "markdown",
      "metadata": {
        "id": "0C3svPYOjDhq"
      },
      "source": [
        "#4 Feature Engineering - การสร้างคุณลักษณะใหม่"
      ]
    },
    {
      "cell_type": "markdown",
      "metadata": {
        "id": "0C8AD6btkGjD"
      },
      "source": [
        "**4.1 One-Hot Encoding แปลงข้อมูลประเภทเป็นตัวเลขโดยใช้ข้องมูลจาก student.csv**"
      ]
    },
    {
      "cell_type": "markdown",
      "metadata": {
        "id": "D6wdr27a40ZL"
      },
      "source": [
        "ข้อมูลออกตรงแต่คณะที่ชื่อเหมือนกันแต่เขียนคนละแบบจะแยกเป็นคนละคณะกัน"
      ]
    },
    {
      "cell_type": "code",
      "execution_count": 159,
      "metadata": {
        "colab": {
          "base_uri": "https://localhost:8080/"
        },
        "id": "iCfLXhZGi98U",
        "outputId": "e17c49ae-79b9-46ef-93ca-fd62f3ad2a30"
      },
      "outputs": [
        {
          "name": "stdout",
          "output_type": "stream",
          "text": [
            "   รหัสนักศึกษา      ชื่อ       อายุ   เพศ   GPA  ส่วนสูง_cm  น้ำหนัก_kg  \\\n",
            "0         64001     สมชาย  20.000000   ชาย  3.21       170.0        65.0   \n",
            "1         64002    สมหญิง  21.000000  หญิง  3.45       165.0        58.0   \n",
            "2         64003       NaN  28.470588  Male  3.67       175.0         NaN   \n",
            "3         64004  สมศักดิ์  22.000000     ช -1.00       168.0        70.0   \n",
            "4         64005      สมใจ  19.000000     ญ  3.89       160.0        52.0   \n",
            "\n",
            "   ชั่วโมงเรียน_ต่อสัปดาห์ วันที่ลงทะเบียน  คณะ_มาตรฐาน  ...  คณะ_Science  \\\n",
            "0                     15.0      2024-01-23  วิทยาศาสตร์  ...        False   \n",
            "1                     20.0      2024-02-05  วิทยาศาสตร์  ...        False   \n",
            "2                     25.0      2024-01-13  วิทยาศาสตร์  ...         True   \n",
            "3                     10.0      2023-12-30  วิทยาศาสตร์  ...        False   \n",
            "4                     30.0      2024-01-27         None  ...        False   \n",
            "\n",
            "   คณะ_คณะวิทยาศาสตร์  คณะ_วิทยาศาสตร์  คณะ_วิทย์  คณะ_วิศวกรรม  \\\n",
            "0               False             True      False         False   \n",
            "1               False            False       True         False   \n",
            "2               False            False      False         False   \n",
            "3                True            False      False         False   \n",
            "4               False            False      False         False   \n",
            "\n",
            "   คณะ_วิศวกรรมศาสตร์  คณะ_วิศวฯ  คณะ_วิศวะ  คณะ_ศิลปศาสตร์  คณะ_ศิลป์  \n",
            "0               False      False      False           False      False  \n",
            "1               False      False      False           False      False  \n",
            "2               False      False      False           False      False  \n",
            "3               False      False      False           False      False  \n",
            "4               False      False       True           False      False  \n",
            "\n",
            "[5 rows x 24 columns]\n"
          ]
        }
      ],
      "source": [
        "# ทำ One-Hot Encoding\n",
        "data_encoded = pd.get_dummies(df, columns=['คณะ'])\n",
        "print(data_encoded.head())"
      ]
    },
    {
      "cell_type": "markdown",
      "metadata": {
        "id": "UVm3DyC6k57c"
      },
      "source": [
        "**4.2 การสร้าง Feature จากวันเวลา โดยใช้ข้อมูลจาก student.csv**"
      ]
    },
    {
      "cell_type": "code",
      "execution_count": 171,
      "metadata": {
        "colab": {
          "base_uri": "https://localhost:8080/"
        },
        "id": "MWYzMAM8kNXx",
        "outputId": "9c009fa4-6289-4f9b-a415-667b791a9551"
      },
      "outputs": [
        {
          "name": "stdout",
          "output_type": "stream",
          "text": [
            "  วันที่ลงทะเบียน  ชั่วโมง   ช่วงเวลา\n",
            "0      2024-01-23     15.0    ปานกลาง\n",
            "1      2024-02-05     20.0        มาก\n",
            "2      2024-01-13     25.0  มากที่สุด\n",
            "3      2023-12-30     10.0       น้อย\n",
            "4      2024-01-27     30.0  มากที่สุด\n"
          ]
        }
      ],
      "source": [
        "\n",
        "##ตัวอย่างที่ต้องการให้แสดงโดยวิธีการทำงานโดยการสร้าง Featureจากวันเวลา\n",
        "# ทำการแปลงวันที่ลงทะเบียนเป็นชนิดวันที่\n",
        "df['วันที่ลงทะเบียน'] = pd.to_datetime(df['วันที่ลงทะเบียน'])\n",
        "\n",
        "# แปลงชั่วโมงเรียนต่อสัปดาห์ให้เป็นตัวเลข (ถ้าแปลงไม่ได้จะกลายเป็นค่าว่าง)\n",
        "df['ชั่วโมงเรียน_ต่อสัปดาห์'] = pd.to_numeric(df['ชั่วโมงเรียน_ต่อสัปดาห์'], errors='coerce')\n",
        "\n",
        "# ใช้ค่าชั่วโมงเรียนต่อสัปดาห์แทนชั่วโมง\n",
        "df['ชั่วโมง'] = df['ชั่วโมงเรียน_ต่อสัปดาห์']\n",
        "\n",
        "# แบ่งช่วงชั่วโมงเรียนเป็นระดับต่างๆ\n",
        "df['ช่วงเวลา'] = pd.cut(df['ชั่วโมงเรียน_ต่อสัปดาห์'],\n",
        "                          bins=[0, 5, 10, 15, 20, float('inf')],\n",
        "                          labels=['ไม่มี', 'น้อย', 'ปานกลาง', 'มาก', 'มากที่สุด'])\n",
        "\n",
        "# แสดงข้อมูลที่สำคัญ\n",
        "print(df[['วันที่ลงทะเบียน', 'ชั่วโมง', 'ช่วงเวลา']].head())"
      ]
    },
    {
      "cell_type": "markdown",
      "metadata": {
        "id": "76VbicSQ0dPE"
      },
      "source": [
        "**4.3 การรวม Features โดยใช้ข้อมูลจาก student.csv**"
      ]
    },
    {
      "cell_type": "code",
      "execution_count": 161,
      "metadata": {
        "colab": {
          "base_uri": "https://localhost:8080/"
        },
        "id": "HS-_l9-Cn7yu",
        "outputId": "3cdf9fc3-0f0b-4d80-a514-f4fe12b06c3b"
      },
      "outputs": [
        {
          "name": "stdout",
          "output_type": "stream",
          "text": [
            "        ชื่อ        BMI สุขภาพ\n",
            "0      สมชาย  22.491349   ปกติ\n",
            "1     สมหญิง  21.303949   ปกติ\n",
            "2        NaN        NaN    NaN\n",
            "3   สมศักดิ์  24.801587   ปกติ\n",
            "4       สมใจ  20.312500   ปกติ\n",
            "5      กานต์  25.351541   อ้วน\n",
            "6      กิตติ  19.227688   ปกติ\n",
            "7       จิรา  25.308642   อ้วน\n",
            "8     ชนาธิป  20.700817   ปกติ\n",
            "9       ดารา  21.513859   ปกติ\n",
            "10      ธีระ        NaN    NaN\n",
            "11       นภา        NaN    NaN\n",
            "12     บุญมี  25.209201   อ้วน\n",
            "13     ปรีชา  20.077335   ปกติ\n",
            "14     พิมพ์  21.338211   ปกติ\n",
            "15      ภูมิ  26.061679   อ้วน\n",
            "16      มานี  22.499637   ปกติ\n",
            "17      ยุพา  19.289379   ปกติ\n",
            "18     รัตนา  25.102391   อ้วน\n",
            "19     ลัดดา  22.675737   ปกติ\n"
          ]
        }
      ],
      "source": [
        "# สร้าง BMI\n",
        "df['BMI'] = df['น้ำหนัก_kg'] / (df['ส่วนสูง_cm']/100)**2\n",
        "df['สุขภาพ'] = pd.cut(df['BMI'],\n",
        "                                   bins=[0, 18.5, 25, 30, 100],\n",
        "                                   labels=['ผอม', 'ปกติ', 'อ้วน', 'อ้วนมาก'])\n",
        "\n",
        "print(df[['ชื่อ', 'BMI', 'สุขภาพ']])"
      ]
    },
    {
      "cell_type": "markdown",
      "metadata": {
        "id": "5-KnWjAV5Yua"
      },
      "source": [
        "#**workshop**"
      ]
    },
    {
      "cell_type": "code",
      "execution_count": 167,
      "metadata": {
        "colab": {
          "base_uri": "https://localhost:8080/"
        },
        "id": "zFhi9f2l0l3m",
        "outputId": "6ba825b9-7d0e-4a5a-a521-3e9c1677c51c"
      },
      "outputs": [
        {
          "name": "stdout",
          "output_type": "stream",
          "text": [
            "=== ข้อมูลดิบ ===\n",
            "  รหัสนักศึกษา      ชื่อ          คณะ  ชั้นปี  GPA     กิจกรรม เวลาเข้าร่วม\n",
            "0        64001     สมชาย        วิทย์     2.0  3.2        กีฬา        08:00\n",
            "1        64002    สมหญิง   ศิลปศาสตร์     3.0  3.8       ดนตรี         9.30\n",
            "2        64003      None  วิทยาศาสตร์     2.0 -1.0  กีฬา,ดนตรี        08:30\n",
            "3        64004  สมศักดิ์         Arts     NaN  2.9        None        08:00\n",
            "4        64005      สมใจ        วิศวะ     4.0  4.5        อาสา         None\n",
            "\n",
            "ปัญหาที่พบ\n",
            "- ข้อมูลหาย - 4 ค่า\n",
            "- GPA ผิดปกติ - [-1.0, 4.5]\n"
          ]
        }
      ],
      "source": [
        "# สร้าง dataset ตัวอย่าง\n",
        "import pandas as pd\n",
        "import numpy as np\n",
        "\n",
        "# ข้อมูลดิบที่มีปัญหา\n",
        "raw_data = {\n",
        "    'รหัสนักศึกษา': ['64001', '64002', '64003', '64004', '64005'],\n",
        "    'ชื่อ': ['สมชาย', 'สมหญิง', None, 'สมศักดิ์', 'สมใจ'],\n",
        "    'คณะ': ['วิทย์', 'ศิลปศาสตร์', 'วิทยาศาสตร์', 'Arts', 'วิศวะ'],\n",
        "    'ชั้นปี': [2, 3, 2, None, 4],\n",
        "    'GPA': [3.2, 3.8, -1, 2.9, 4.5],  # -1 และ 4.5 ผิดปกติ\n",
        "    'กิจกรรม': ['กีฬา', 'ดนตรี', 'กีฬา,ดนตรี', None, 'อาสา'],\n",
        "    'เวลาเข้าร่วม': ['08:00', '9.30', '08:30', '08:00', None]\n",
        "}\n",
        "\n",
        "df_student = pd.DataFrame(raw_data)\n",
        "print(\"=== ข้อมูลดิบ ===\")\n",
        "print(df_student)\n",
        "print(\"\\nปัญหาที่พบ\")\n",
        "print(f\"- ข้อมูลหาย - {df_student.isnull().sum().sum()} ค่า\")\n",
        "print(f\"- GPA ผิดปกติ - {df_student[(df_student['GPA'] < 0) | (df_student['GPA'] > 4)]['GPA'].tolist()}\")"
      ]
    },
    {
      "cell_type": "markdown",
      "metadata": {
        "id": "WAtC0F3753Ar"
      },
      "source": [
        "**ทำความสะอาดข้อมูลในส่วนของ work shop แต่ใช้ไฟล์ข้อมูล student.csv**"
      ]
    },
    {
      "cell_type": "code",
      "execution_count": 168,
      "metadata": {
        "colab": {
          "base_uri": "https://localhost:8080/"
        },
        "id": "qXvSBHlk5nds",
        "outputId": "54fc2604-09ff-4962-a33f-b56d799715f2"
      },
      "outputs": [
        {
          "name": "stdout",
          "output_type": "stream",
          "text": [
            "\n",
            "=== ข้อมูลหลังทำความสะอาด ===\n",
            "  รหัสนักศึกษา      ชื่อ             คณะ  ชั้นปี    GPA         กิจกรรม  \\\n",
            "0        64001     สมชาย     วิทยาศาสตร์     2.0  3.200            กีฬา   \n",
            "1        64002    สมหญิง      ศิลปศาสตร์     3.0  3.800           ดนตรี   \n",
            "2        64003   ไม่ระบุ     วิทยาศาสตร์     2.0  3.475      กีฬา,ดนตรี   \n",
            "3        64004  สมศักดิ์      ศิลปศาสตร์     2.0  2.900  ไม่ได้เข้าร่วม   \n",
            "4        64005      สมใจ  วิศวกรรมศาสตร์     4.0  4.000            อาสา   \n",
            "\n",
            "  เวลาเข้าร่วม  \n",
            "0        08:00  \n",
            "1        09:30  \n",
            "2        08:30  \n",
            "3        08:00  \n",
            "4        08:00  \n"
          ]
        },
        {
          "name": "stderr",
          "output_type": "stream",
          "text": [
            "/tmp/ipython-input-4009819203.py:3: FutureWarning: A value is trying to be set on a copy of a DataFrame or Series through chained assignment using an inplace method.\n",
            "The behavior will change in pandas 3.0. This inplace method will never work because the intermediate object on which we are setting values always behaves as a copy.\n",
            "\n",
            "For example, when doing 'df[col].method(value, inplace=True)', try using 'df.method({col: value}, inplace=True)' or df[col] = df[col].method(value) instead, to perform the operation inplace on the original object.\n",
            "\n",
            "\n",
            "  df_student['ชื่อ'].fillna('ไม่ระบุ', inplace=True)\n",
            "/tmp/ipython-input-4009819203.py:7: FutureWarning: A value is trying to be set on a copy of a DataFrame or Series through chained assignment using an inplace method.\n",
            "The behavior will change in pandas 3.0. This inplace method will never work because the intermediate object on which we are setting values always behaves as a copy.\n",
            "\n",
            "For example, when doing 'df[col].method(value, inplace=True)', try using 'df.method({col: value}, inplace=True)' or df[col] = df[col].method(value) instead, to perform the operation inplace on the original object.\n",
            "\n",
            "\n",
            "  df_student['ชั้นปี'].fillna(mode_year, inplace=True)\n",
            "/tmp/ipython-input-4009819203.py:10: FutureWarning: A value is trying to be set on a copy of a DataFrame or Series through chained assignment using an inplace method.\n",
            "The behavior will change in pandas 3.0. This inplace method will never work because the intermediate object on which we are setting values always behaves as a copy.\n",
            "\n",
            "For example, when doing 'df[col].method(value, inplace=True)', try using 'df.method({col: value}, inplace=True)' or df[col] = df[col].method(value) instead, to perform the operation inplace on the original object.\n",
            "\n",
            "\n",
            "  df_student['กิจกรรม'].fillna('ไม่ได้เข้าร่วม', inplace=True)\n",
            "/tmp/ipython-input-4009819203.py:16: FutureWarning: A value is trying to be set on a copy of a DataFrame or Series through chained assignment using an inplace method.\n",
            "The behavior will change in pandas 3.0. This inplace method will never work because the intermediate object on which we are setting values always behaves as a copy.\n",
            "\n",
            "For example, when doing 'df[col].method(value, inplace=True)', try using 'df.method({col: value}, inplace=True)' or df[col] = df[col].method(value) instead, to perform the operation inplace on the original object.\n",
            "\n",
            "\n",
            "  df_student['GPA'].fillna(mean_gpa, inplace=True)\n"
          ]
        }
      ],
      "source": [
        "# Step 1 - จัดการข้อมูลหาย\n",
        "# ชื่อที่หาย - ใช้ \"ไม่ระบุ\"\n",
        "df_student['ชื่อ'].fillna('ไม่ระบุ', inplace=True)\n",
        "\n",
        "# ชั้นปีที่หาย - ใช้ค่าที่พบบ่อยที่สุด\n",
        "mode_year = df_student['ชั้นปี'].mode()[0]\n",
        "df_student['ชั้นปี'].fillna(mode_year, inplace=True)\n",
        "\n",
        "# กิจกรรมที่หาย - ใช้ \"ไม่ได้เข้าร่วม\"\n",
        "df_student['กิจกรรม'].fillna('ไม่ได้เข้าร่วม', inplace=True)\n",
        "\n",
        "# Step 2 - แก้ไข GPA ผิดปกติ\n",
        "df_student.loc[df_student['GPA'] < 0, 'GPA'] = np.nan\n",
        "df_student.loc[df_student['GPA'] > 4, 'GPA'] = 4.0\n",
        "mean_gpa = df_student['GPA'].mean()\n",
        "df_student['GPA'].fillna(mean_gpa, inplace=True)\n",
        "\n",
        "# Step 3 - ทำให้ชื่อคณะเป็นมาตรฐาน\n",
        "faculty_mapping = {\n",
        "    'วิทย์': 'วิทยาศาสตร์',\n",
        "    'วิทยาศาสตร์': 'วิทยาศาสตร์',\n",
        "    'ศิลปศาสตร์': 'ศิลปศาสตร์',\n",
        "    'Arts': 'ศิลปศาสตร์',\n",
        "    'วิศวะ': 'วิศวกรรมศาสตร์'\n",
        "}\n",
        "df_student['คณะ'] = df_student['คณะ'].map(faculty_mapping)\n",
        "\n",
        "# Step 4 - แปลงเวลาให้เป็นรูปแบบเดียวกัน\n",
        "def standardize_time(time_str):\n",
        "    if pd.isna(time_str):\n",
        "        return '08:00'  # ค่าเริ่มต้น\n",
        "    time_str = str(time_str).replace('.', ':')\n",
        "    if len(time_str.split(':')[0]) == 1:\n",
        "        time_str = '0' + time_str\n",
        "    return time_str\n",
        "\n",
        "df_student['เวลาเข้าร่วม'] = df_student['เวลาเข้าร่วม'].apply(standardize_time)\n",
        "\n",
        "print(\"\\n=== ข้อมูลหลังทำความสะอาด ===\")\n",
        "print(df_student)\n"
      ]
    },
    {
      "cell_type": "code",
      "execution_count": 169,
      "metadata": {
        "colab": {
          "base_uri": "https://localhost:8080/"
        },
        "id": "Bc5f0c0G6DNg",
        "outputId": "3890445a-d00b-45bb-ffee-6b25a5cbe8de"
      },
      "outputs": [
        {
          "name": "stdout",
          "output_type": "stream",
          "text": [
            "\n",
            "=== ข้อมูลหลัง Feature Engineering ===\n",
            "  รหัสนักศึกษา ช่วงเวลา  จำนวนกิจกรรม ระดับผลการเรียน\n",
            "0        64001     เช้า             1              ดี\n",
            "1        64002     เช้า             1           ดีมาก\n",
            "2        64003     เช้า             2              ดี\n",
            "3        64004     เช้า             0         ปานกลาง\n",
            "4        64005     เช้า             1           ดีมาก\n",
            "\n",
            "คอลัมน์ทั้งหมด\n",
            "['รหัสนักศึกษา', 'ชื่อ', 'ชั้นปี', 'GPA', 'กิจกรรม', 'เวลาเข้าร่วม', 'ชั่วโมง', 'ช่วงเวลา', 'จำนวนกิจกรรม', 'ระดับผลการเรียน', 'คณะ_วิทยาศาสตร์', 'คณะ_วิศวกรรมศาสตร์', 'คณะ_ศิลปศาสตร์']\n"
          ]
        }
      ],
      "source": [
        "# Feature 1 - แปลงเวลาเป็นช่วงเวลา\n",
        "df_student['ชั่วโมง'] = pd.to_datetime(df_student['เวลาเข้าร่วม'], format='%H:%M').dt.hour\n",
        "df_student['ช่วงเวลา'] = pd.cut(df_student['ชั่วโมง'],\n",
        "                                 bins=[0, 9, 12, 24],\n",
        "                                 labels=['เช้า', 'สาย', 'บ่าย'])\n",
        "\n",
        "# Feature 2 - นับจำนวนกิจกรรม\n",
        "df_student['จำนวนกิจกรรม'] = df_student['กิจกรรม'].apply(\n",
        "    lambda x: len(x.split(',')) if x != 'ไม่ได้เข้าร่วม' else 0\n",
        ")\n",
        "\n",
        "# Feature 3 - จัดกลุ่มผลการเรียน\n",
        "df_student['ระดับผลการเรียน'] = pd.cut(df_student['GPA'],\n",
        "                                        bins=[0, 2.0, 3.0, 3.5, 4.0],\n",
        "                                        labels=['ต่ำ', 'ปานกลาง', 'ดี', 'ดีมาก'])\n",
        "\n",
        "# Feature 4 - One-Hot Encoding สำหรับคณะ\n",
        "df_encoded = pd.get_dummies(df_student, columns=['คณะ'], prefix='คณะ')\n",
        "\n",
        "print(\"\\n=== ข้อมูลหลัง Feature Engineering ===\")\n",
        "print(df_encoded[['รหัสนักศึกษา', 'ช่วงเวลา', 'จำนวนกิจกรรม', 'ระดับผลการเรียน']])\n",
        "print(\"\\nคอลัมน์ทั้งหมด\")\n",
        "print(df_encoded.columns.tolist())"
      ]
    },
    {
      "cell_type": "code",
      "execution_count": null,
      "metadata": {
        "id": "JRqX-3yr7GdH"
      },
      "outputs": [],
      "source": []
    }
  ],
  "metadata": {
    "colab": {
      "provenance": []
    },
    "kernelspec": {
      "display_name": "Python 3",
      "name": "python3"
    },
    "language_info": {
      "name": "python"
    }
  },
  "nbformat": 4,
  "nbformat_minor": 0
}
